{
  "cells": [
    {
      "cell_type": "markdown",
      "id": "757ff781",
      "metadata": {
        "id": "757ff781"
      },
      "source": [
        "# Aula 01: Introdução aos Pandas\n",
        "\n",
        "### Q1) O que é Pandas?\n",
        "Pandas é uma biblioteca de código fonte aberto escrita sobre o Numpy. Permite rápida visualização e limpeza de diferentes tipos de dados. Além de possuir diferentes métodos de visualização de dados, semelhante ao Excel.\n",
        "\n",
        "\n",
        "### Q2) Que tipo de dados Pandas trabalha?\n",
        "O pandas trabalha com uma estrutura bidiomencional chamada DataFrame que pode armazenar diferentes tipos de dados como strings, inteiros, pontos flutuantes dados categoricos entre outros. Cada coluna de um DataFrame é uma Series.\n",
        "\n",
        "\n",
        "<img src='https://pandas.pydata.org/docs/_images/01_table_dataframe.svg'>"
      ]
    },
    {
      "cell_type": "code",
      "execution_count": 1,
      "id": "d26bee58",
      "metadata": {
        "id": "d26bee58"
      },
      "outputs": [],
      "source": [
        "# Como importar bibliotecas no Python??\n",
        "import numpy as np\n",
        "import pandas as pd"
      ]
    },
    {
      "cell_type": "code",
      "execution_count": 2,
      "id": "933ddf88",
      "metadata": {
        "id": "933ddf88",
        "outputId": "6a314338-b1da-47f0-ab5d-130b51176806",
        "colab": {
          "base_uri": "https://localhost:8080/"
        }
      },
      "outputs": [
        {
          "output_type": "stream",
          "name": "stdout",
          "text": [
            "Versão do Pandas: 1.5.3\n",
            "Versão do Numpy: 1.22.4\n"
          ]
        }
      ],
      "source": [
        "print(f'Versão do Pandas: {pd.__version__}')\n",
        "print(f'Versão do Numpy: {np.__version__}')"
      ]
    },
    {
      "cell_type": "markdown",
      "id": "901ffbc4",
      "metadata": {
        "id": "901ffbc4"
      },
      "source": [
        "## 1.0 Series\n",
        "\n",
        "O primeiro tipo de dado que aprenderemos é a Serie. Vamos importar Pandas e explorar tal objeto.\n",
        "\n",
        "A Serie é muito semelhante a uma matriz NumPy (na verdade, ela é construída em cima do objeto de matriz NumPy). O que diferencia a matriz NumPy de uma Série, é que uma Serie pode ter rótulos de eixos, o que significa que pode ser indexado por um rótulo, em vez de apenas uma localização numérica. Também não precisa manter dados numéricos, ele pode conter qualquer objeto Python arbitrário.\n",
        "\n",
        "Vamos explorar este conceito através de alguns exemplos:\n",
        "\n",
        "\n",
        "- Sumário\n",
        "    - 1. Criando series\n",
        "    - 2. Operações em Series\n",
        "    - 3. Ordenando e Reindexando Series"
      ]
    },
    {
      "cell_type": "markdown",
      "id": "ce5c1189",
      "metadata": {
        "id": "ce5c1189"
      },
      "source": [
        "### 1.1 Criando uma Serie\n",
        "\n",
        "Você pode converter uma lista, numpy array ou dicionário para uma serie:"
      ]
    },
    {
      "cell_type": "code",
      "execution_count": 3,
      "id": "53d6d1fc",
      "metadata": {
        "id": "53d6d1fc"
      },
      "outputs": [],
      "source": [
        "minha_lista = [10,20,30]"
      ]
    },
    {
      "cell_type": "code",
      "execution_count": 4,
      "id": "f26da9ce",
      "metadata": {
        "id": "f26da9ce",
        "outputId": "d216c7f1-f52d-4b8a-c489-9f79d5a4cdf1",
        "colab": {
          "base_uri": "https://localhost:8080/"
        }
      },
      "outputs": [
        {
          "output_type": "execute_result",
          "data": {
            "text/plain": [
              "0    10\n",
              "1    20\n",
              "2    30\n",
              "dtype: int64"
            ]
          },
          "metadata": {},
          "execution_count": 4
        }
      ],
      "source": [
        "pd.Series(data=minha_lista)"
      ]
    },
    {
      "cell_type": "markdown",
      "id": "a2d890c4",
      "metadata": {
        "id": "a2d890c4"
      },
      "source": [
        "#### 1.1.1 Definindo uma Series a partir de uma lista"
      ]
    },
    {
      "cell_type": "code",
      "execution_count": 5,
      "id": "b8b32d61",
      "metadata": {
        "id": "b8b32d61",
        "outputId": "3d1d56f0-975d-4aaa-998a-2025e87b0c67",
        "colab": {
          "base_uri": "https://localhost:8080/"
        }
      },
      "outputs": [
        {
          "output_type": "execute_result",
          "data": {
            "text/plain": [
              "a    10\n",
              "b    20\n",
              "c    30\n",
              "dtype: int64"
            ]
          },
          "metadata": {},
          "execution_count": 5
        }
      ],
      "source": [
        "# definindo array\n",
        "labels = ['a','b','c']\n",
        "pd.Series(data=minha_lista,index=labels)"
      ]
    },
    {
      "cell_type": "code",
      "execution_count": 5,
      "id": "4625b8e2",
      "metadata": {
        "id": "4625b8e2"
      },
      "outputs": [],
      "source": []
    },
    {
      "cell_type": "markdown",
      "id": "76dc2444",
      "metadata": {
        "id": "76dc2444"
      },
      "source": [
        "#### 1.1.2 Definindo uma Series através de um NumPy Arrays"
      ]
    },
    {
      "cell_type": "code",
      "execution_count": 6,
      "id": "ea7c8780",
      "metadata": {
        "id": "ea7c8780"
      },
      "outputs": [],
      "source": [
        "arr = np.array([1,2,3])"
      ]
    },
    {
      "cell_type": "code",
      "execution_count": 7,
      "id": "11bfe566",
      "metadata": {
        "id": "11bfe566",
        "outputId": "7e7781d2-61ef-45a3-d9e2-6f54ad011adf",
        "colab": {
          "base_uri": "https://localhost:8080/"
        }
      },
      "outputs": [
        {
          "output_type": "execute_result",
          "data": {
            "text/plain": [
              "0    1\n",
              "1    2\n",
              "2    3\n",
              "dtype: int64"
            ]
          },
          "metadata": {},
          "execution_count": 7
        }
      ],
      "source": [
        "pd.Series(arr)"
      ]
    },
    {
      "cell_type": "code",
      "execution_count": 8,
      "id": "7bf1eccd",
      "metadata": {
        "id": "7bf1eccd",
        "outputId": "264f5da4-2c32-4985-a131-5d2058c1b2a7",
        "colab": {
          "base_uri": "https://localhost:8080/"
        }
      },
      "outputs": [
        {
          "output_type": "execute_result",
          "data": {
            "text/plain": [
              "a    1\n",
              "b    2\n",
              "c    3\n",
              "dtype: int64"
            ]
          },
          "metadata": {},
          "execution_count": 8
        }
      ],
      "source": [
        "pd.Series(arr,labels)"
      ]
    },
    {
      "cell_type": "markdown",
      "id": "ae43f199",
      "metadata": {
        "id": "ae43f199"
      },
      "source": [
        "#### 1.1.3 Definindo uma Series a partir de Dicionários"
      ]
    },
    {
      "cell_type": "code",
      "execution_count": 9,
      "id": "86dc4475",
      "metadata": {
        "id": "86dc4475",
        "outputId": "f14b45d3-c4f7-4bcd-f46d-caa678700a62",
        "colab": {
          "base_uri": "https://localhost:8080/"
        }
      },
      "outputs": [
        {
          "output_type": "execute_result",
          "data": {
            "text/plain": [
              "a    10\n",
              "b    20\n",
              "c    30\n",
              "dtype: int64"
            ]
          },
          "metadata": {},
          "execution_count": 9
        }
      ],
      "source": [
        "# definindo um dicionário\n",
        "d = {'a':10,'b':20,'c':30}\n",
        "pd.Series(d)"
      ]
    },
    {
      "cell_type": "markdown",
      "id": "4c8aaa22",
      "metadata": {
        "id": "4c8aaa22"
      },
      "source": [
        "### 1.2 Criando uma série usando labels e objetos\n",
        "\n",
        "Uma série de pandas pode conter uma variedade de tipos de objeto:"
      ]
    },
    {
      "cell_type": "code",
      "execution_count": 10,
      "id": "cbf5d870",
      "metadata": {
        "id": "cbf5d870",
        "outputId": "9fc98d35-c22f-48a1-b263-f27bef437fd2",
        "colab": {
          "base_uri": "https://localhost:8080/"
        }
      },
      "outputs": [
        {
          "output_type": "execute_result",
          "data": {
            "text/plain": [
              "0    a\n",
              "1    b\n",
              "2    c\n",
              "dtype: object"
            ]
          },
          "metadata": {},
          "execution_count": 10
        }
      ],
      "source": [
        "pd.Series(data=labels)"
      ]
    },
    {
      "cell_type": "code",
      "execution_count": 11,
      "id": "e8edf1b0",
      "metadata": {
        "id": "e8edf1b0",
        "outputId": "44036586-5ea6-4c44-b86c-6148118261ad",
        "colab": {
          "base_uri": "https://localhost:8080/"
        }
      },
      "outputs": [
        {
          "output_type": "execute_result",
          "data": {
            "text/plain": [
              "0      <built-in function sum>\n",
              "1    <built-in function print>\n",
              "2      <built-in function len>\n",
              "dtype: object"
            ]
          },
          "metadata": {},
          "execution_count": 11
        }
      ],
      "source": [
        "# Series também recebe funções (embora seja improvável que você usar isso)\n",
        "pd.Series([sum,print,len])"
      ]
    },
    {
      "cell_type": "markdown",
      "id": "b5db89a3",
      "metadata": {
        "id": "b5db89a3"
      },
      "source": [
        "### 1.3 Usando um Índice\n",
        "\n",
        "A chave para usar uma Serie é entender seu índice. O Pandas faz uso desses nomes ou números de índice, permitindo pesquisas rápidas de informações (funciona como uma tabela de hash ou dicionário).\n",
        "\n",
        "Vamos ver alguns exemplos de como pegar informações de uma Serie. Vamos criar duas Series, ser1 e ser2:"
      ]
    },
    {
      "cell_type": "code",
      "execution_count": 12,
      "id": "7fa49067",
      "metadata": {
        "id": "7fa49067"
      },
      "outputs": [],
      "source": [
        "ser1 = pd.Series([1,2,3,4], index = ['EUA', 'Alemanha','USSR', 'Japão'])                                   "
      ]
    },
    {
      "cell_type": "code",
      "execution_count": 13,
      "id": "89f49cb7",
      "metadata": {
        "id": "89f49cb7",
        "outputId": "a7d4fe9a-cba7-4bbe-b545-f87a90503b53",
        "colab": {
          "base_uri": "https://localhost:8080/"
        }
      },
      "outputs": [
        {
          "output_type": "execute_result",
          "data": {
            "text/plain": [
              "EUA         1\n",
              "Alemanha    2\n",
              "USSR        3\n",
              "Japão       4\n",
              "dtype: int64"
            ]
          },
          "metadata": {},
          "execution_count": 13
        }
      ],
      "source": [
        "ser1"
      ]
    },
    {
      "cell_type": "code",
      "execution_count": 14,
      "id": "381340d7",
      "metadata": {
        "id": "381340d7"
      },
      "outputs": [],
      "source": [
        "ser2 = pd.Series([1,2,5,4],index = ['EUA', 'Alemanha','Italia', 'Japão'])                                   "
      ]
    },
    {
      "cell_type": "code",
      "execution_count": 15,
      "id": "dd1c101e",
      "metadata": {
        "id": "dd1c101e",
        "outputId": "3b173584-a70d-4c3e-a2ae-84c09ac0407c",
        "colab": {
          "base_uri": "https://localhost:8080/"
        }
      },
      "outputs": [
        {
          "output_type": "execute_result",
          "data": {
            "text/plain": [
              "EUA         1\n",
              "Alemanha    2\n",
              "Italia      5\n",
              "Japão       4\n",
              "dtype: int64"
            ]
          },
          "metadata": {},
          "execution_count": 15
        }
      ],
      "source": [
        "ser2"
      ]
    },
    {
      "cell_type": "code",
      "execution_count": 16,
      "id": "d89903a1",
      "metadata": {
        "id": "d89903a1",
        "outputId": "8c32e9f6-2926-4527-97af-06f51e349278",
        "colab": {
          "base_uri": "https://localhost:8080/"
        }
      },
      "outputs": [
        {
          "output_type": "execute_result",
          "data": {
            "text/plain": [
              "1"
            ]
          },
          "metadata": {},
          "execution_count": 16
        }
      ],
      "source": [
        "ser1['EUA']"
      ]
    },
    {
      "cell_type": "markdown",
      "id": "30ac7330",
      "metadata": {
        "id": "30ac7330"
      },
      "source": [
        "### 1.4 Operações em Series"
      ]
    },
    {
      "cell_type": "code",
      "execution_count": 17,
      "id": "d942f2dd",
      "metadata": {
        "id": "d942f2dd",
        "outputId": "c4254a85-37ac-4e55-c78e-88f4277621e4",
        "colab": {
          "base_uri": "https://localhost:8080/"
        }
      },
      "outputs": [
        {
          "output_type": "execute_result",
          "data": {
            "text/plain": [
              "Alemanha    4.0\n",
              "EUA         2.0\n",
              "Italia      NaN\n",
              "Japão       8.0\n",
              "USSR        NaN\n",
              "dtype: float64"
            ]
          },
          "metadata": {},
          "execution_count": 17
        }
      ],
      "source": [
        "ser1 + ser2"
      ]
    },
    {
      "cell_type": "code",
      "execution_count": 18,
      "id": "c005d7c7",
      "metadata": {
        "id": "c005d7c7",
        "outputId": "85dd7325-754e-4de6-c94c-750fad28cbc7",
        "colab": {
          "base_uri": "https://localhost:8080/"
        }
      },
      "outputs": [
        {
          "output_type": "execute_result",
          "data": {
            "text/plain": [
              "1"
            ]
          },
          "metadata": {},
          "execution_count": 18
        }
      ],
      "source": [
        "ser1.min()"
      ]
    },
    {
      "cell_type": "code",
      "execution_count": 19,
      "id": "0410cd91",
      "metadata": {
        "id": "0410cd91",
        "outputId": "65f1907e-a6a2-4019-9cd1-6bdbc4bd543a",
        "colab": {
          "base_uri": "https://localhost:8080/"
        }
      },
      "outputs": [
        {
          "output_type": "execute_result",
          "data": {
            "text/plain": [
              "4"
            ]
          },
          "metadata": {},
          "execution_count": 19
        }
      ],
      "source": [
        "ser1.max()"
      ]
    },
    {
      "cell_type": "code",
      "execution_count": 20,
      "id": "e21bbeae",
      "metadata": {
        "id": "e21bbeae",
        "outputId": "13716a97-62c6-43f5-dbb3-a087624be6a3",
        "colab": {
          "base_uri": "https://localhost:8080/"
        }
      },
      "outputs": [
        {
          "output_type": "execute_result",
          "data": {
            "text/plain": [
              "count    4.000000\n",
              "mean     2.500000\n",
              "std      1.290994\n",
              "min      1.000000\n",
              "25%      1.750000\n",
              "50%      2.500000\n",
              "75%      3.250000\n",
              "max      4.000000\n",
              "dtype: float64"
            ]
          },
          "metadata": {},
          "execution_count": 20
        }
      ],
      "source": [
        "ser1.describe()"
      ]
    },
    {
      "cell_type": "markdown",
      "id": "8bf4d188",
      "metadata": {
        "id": "8bf4d188"
      },
      "source": [
        "### 1.5 Ordenando Series"
      ]
    },
    {
      "cell_type": "code",
      "execution_count": 21,
      "id": "53560e8e",
      "metadata": {
        "id": "53560e8e",
        "outputId": "61c7d4bc-a5b7-467d-8b28-90f3622f984d",
        "colab": {
          "base_uri": "https://localhost:8080/"
        }
      },
      "outputs": [
        {
          "output_type": "execute_result",
          "data": {
            "text/plain": [
              "EUA         1\n",
              "Alemanha    2\n",
              "USSR        3\n",
              "Japão       4\n",
              "dtype: int64"
            ]
          },
          "metadata": {},
          "execution_count": 21
        }
      ],
      "source": [
        "ser1"
      ]
    },
    {
      "cell_type": "code",
      "execution_count": 22,
      "id": "dc90ba16",
      "metadata": {
        "id": "dc90ba16",
        "outputId": "1e474041-82dd-4b4b-f850-f3871101576f",
        "colab": {
          "base_uri": "https://localhost:8080/"
        }
      },
      "outputs": [
        {
          "output_type": "execute_result",
          "data": {
            "text/plain": [
              "EUA         1\n",
              "Alemanha    2\n",
              "USSR        3\n",
              "Japão       4\n",
              "dtype: int64"
            ]
          },
          "metadata": {},
          "execution_count": 22
        }
      ],
      "source": [
        "ser1.sort_values(ascending=True)"
      ]
    },
    {
      "cell_type": "markdown",
      "id": "d4bc6af1",
      "metadata": {
        "id": "d4bc6af1"
      },
      "source": [
        "## 2.0 Criando um DataFrame \n",
        "\n",
        "#### 2.1 Usando uma matriz randômica"
      ]
    },
    {
      "cell_type": "code",
      "execution_count": 23,
      "id": "478e80c9",
      "metadata": {
        "id": "478e80c9"
      },
      "outputs": [],
      "source": [
        "from numpy.random import randn\n",
        "np.random.seed(101)"
      ]
    },
    {
      "cell_type": "code",
      "execution_count": 24,
      "id": "3179a162",
      "metadata": {
        "id": "3179a162",
        "outputId": "1a526be8-de21-44f1-ef00-fce8d027cb4f",
        "colab": {
          "base_uri": "https://localhost:8080/"
        }
      },
      "outputs": [
        {
          "output_type": "execute_result",
          "data": {
            "text/plain": [
              "['W', 'X', 'Y', 'Z']"
            ]
          },
          "metadata": {},
          "execution_count": 24
        }
      ],
      "source": [
        "'W X Y Z'.split()"
      ]
    },
    {
      "cell_type": "code",
      "execution_count": 25,
      "id": "c175804f",
      "metadata": {
        "id": "c175804f",
        "outputId": "989e3268-bdb9-43db-fb61-383ce33a035f",
        "colab": {
          "base_uri": "https://localhost:8080/"
        }
      },
      "outputs": [
        {
          "output_type": "execute_result",
          "data": {
            "text/plain": [
              "array([[ 2.70684984e+00,  6.28132709e-01,  9.07969446e-01,\n",
              "         5.03825754e-01],\n",
              "       [ 6.51117948e-01, -3.19318045e-01, -8.48076983e-01,\n",
              "         6.05965349e-01],\n",
              "       [-2.01816824e+00,  7.40122057e-01,  5.28813494e-01,\n",
              "        -5.89000533e-01],\n",
              "       [ 1.88695309e-01, -7.58872056e-01, -9.33237216e-01,\n",
              "         9.55056509e-01],\n",
              "       [ 1.90794322e-01,  1.97875732e+00,  2.60596728e+00,\n",
              "         6.83508886e-01],\n",
              "       [ 3.02665449e-01,  1.69372293e+00, -1.70608593e+00,\n",
              "        -1.15911942e+00],\n",
              "       [-1.34840721e-01,  3.90527843e-01,  1.66904636e-01,\n",
              "         1.84501859e-01],\n",
              "       [ 8.07705914e-01,  7.29596753e-02,  6.38787013e-01,\n",
              "         3.29646299e-01],\n",
              "       [-4.97104023e-01, -7.54069701e-01, -9.43406403e-01,\n",
              "         4.84751647e-01],\n",
              "       [-1.16773316e-01,  1.90175480e+00,  2.38126959e-01,\n",
              "         1.99665229e+00],\n",
              "       [-9.93263500e-01,  1.96799505e-01, -1.13664459e+00,\n",
              "         3.66479606e-04],\n",
              "       [ 1.02598415e+00, -1.56597904e-01, -3.15791439e-02,\n",
              "         6.49825833e-01],\n",
              "       [ 2.15484644e+00, -6.10258856e-01, -7.55325340e-01,\n",
              "        -3.46418504e-01],\n",
              "       [ 1.47026771e-01, -4.79448039e-01,  5.58769406e-01,\n",
              "         1.02481028e+00],\n",
              "       [-9.25874259e-01,  1.86286414e+00, -1.13381716e+00,\n",
              "         6.10477908e-01],\n",
              "       [ 3.86030312e-01,  2.08401853e+00, -3.76518675e-01,\n",
              "         2.30336344e-01],\n",
              "       [ 6.81209293e-01,  1.03512507e+00, -3.11604815e-02,\n",
              "         1.93993231e+00],\n",
              "       [-1.00518692e+00, -7.41789705e-01,  1.87124522e-01,\n",
              "        -7.32845148e-01],\n",
              "       [-1.38292010e+00,  1.48249550e+00,  9.61458156e-01,\n",
              "        -2.14121229e+00],\n",
              "       [ 9.92573453e-01,  1.19224064e+00, -1.04677954e+00,\n",
              "         1.29276458e+00]])"
            ]
          },
          "metadata": {},
          "execution_count": 25
        }
      ],
      "source": [
        "matriz = randn(20,4)\n",
        "matriz"
      ]
    },
    {
      "cell_type": "code",
      "execution_count": 26,
      "id": "c70acc9e",
      "metadata": {
        "id": "c70acc9e"
      },
      "outputs": [],
      "source": [
        "df = pd.DataFrame(matriz,columns='W X Y Z'.split())"
      ]
    },
    {
      "cell_type": "markdown",
      "id": "ef4cf914",
      "metadata": {
        "id": "ef4cf914"
      },
      "source": [
        "#### 2.2 Métodos principais para entendimento de dados"
      ]
    },
    {
      "cell_type": "code",
      "execution_count": 27,
      "id": "9e9d48f3",
      "metadata": {
        "id": "9e9d48f3",
        "outputId": "fe472c66-2955-4e6a-dc16-907cb85629c7",
        "colab": {
          "base_uri": "https://localhost:8080/",
          "height": 206
        }
      },
      "outputs": [
        {
          "output_type": "execute_result",
          "data": {
            "text/plain": [
              "          W         X         Y         Z\n",
              "0  2.706850  0.628133  0.907969  0.503826\n",
              "1  0.651118 -0.319318 -0.848077  0.605965\n",
              "2 -2.018168  0.740122  0.528813 -0.589001\n",
              "3  0.188695 -0.758872 -0.933237  0.955057\n",
              "4  0.190794  1.978757  2.605967  0.683509"
            ],
            "text/html": [
              "\n",
              "  <div id=\"df-0712c29b-d949-47e8-a022-3ce0cba43ddb\">\n",
              "    <div class=\"colab-df-container\">\n",
              "      <div>\n",
              "<style scoped>\n",
              "    .dataframe tbody tr th:only-of-type {\n",
              "        vertical-align: middle;\n",
              "    }\n",
              "\n",
              "    .dataframe tbody tr th {\n",
              "        vertical-align: top;\n",
              "    }\n",
              "\n",
              "    .dataframe thead th {\n",
              "        text-align: right;\n",
              "    }\n",
              "</style>\n",
              "<table border=\"1\" class=\"dataframe\">\n",
              "  <thead>\n",
              "    <tr style=\"text-align: right;\">\n",
              "      <th></th>\n",
              "      <th>W</th>\n",
              "      <th>X</th>\n",
              "      <th>Y</th>\n",
              "      <th>Z</th>\n",
              "    </tr>\n",
              "  </thead>\n",
              "  <tbody>\n",
              "    <tr>\n",
              "      <th>0</th>\n",
              "      <td>2.706850</td>\n",
              "      <td>0.628133</td>\n",
              "      <td>0.907969</td>\n",
              "      <td>0.503826</td>\n",
              "    </tr>\n",
              "    <tr>\n",
              "      <th>1</th>\n",
              "      <td>0.651118</td>\n",
              "      <td>-0.319318</td>\n",
              "      <td>-0.848077</td>\n",
              "      <td>0.605965</td>\n",
              "    </tr>\n",
              "    <tr>\n",
              "      <th>2</th>\n",
              "      <td>-2.018168</td>\n",
              "      <td>0.740122</td>\n",
              "      <td>0.528813</td>\n",
              "      <td>-0.589001</td>\n",
              "    </tr>\n",
              "    <tr>\n",
              "      <th>3</th>\n",
              "      <td>0.188695</td>\n",
              "      <td>-0.758872</td>\n",
              "      <td>-0.933237</td>\n",
              "      <td>0.955057</td>\n",
              "    </tr>\n",
              "    <tr>\n",
              "      <th>4</th>\n",
              "      <td>0.190794</td>\n",
              "      <td>1.978757</td>\n",
              "      <td>2.605967</td>\n",
              "      <td>0.683509</td>\n",
              "    </tr>\n",
              "  </tbody>\n",
              "</table>\n",
              "</div>\n",
              "      <button class=\"colab-df-convert\" onclick=\"convertToInteractive('df-0712c29b-d949-47e8-a022-3ce0cba43ddb')\"\n",
              "              title=\"Convert this dataframe to an interactive table.\"\n",
              "              style=\"display:none;\">\n",
              "        \n",
              "  <svg xmlns=\"http://www.w3.org/2000/svg\" height=\"24px\"viewBox=\"0 0 24 24\"\n",
              "       width=\"24px\">\n",
              "    <path d=\"M0 0h24v24H0V0z\" fill=\"none\"/>\n",
              "    <path d=\"M18.56 5.44l.94 2.06.94-2.06 2.06-.94-2.06-.94-.94-2.06-.94 2.06-2.06.94zm-11 1L8.5 8.5l.94-2.06 2.06-.94-2.06-.94L8.5 2.5l-.94 2.06-2.06.94zm10 10l.94 2.06.94-2.06 2.06-.94-2.06-.94-.94-2.06-.94 2.06-2.06.94z\"/><path d=\"M17.41 7.96l-1.37-1.37c-.4-.4-.92-.59-1.43-.59-.52 0-1.04.2-1.43.59L10.3 9.45l-7.72 7.72c-.78.78-.78 2.05 0 2.83L4 21.41c.39.39.9.59 1.41.59.51 0 1.02-.2 1.41-.59l7.78-7.78 2.81-2.81c.8-.78.8-2.07 0-2.86zM5.41 20L4 18.59l7.72-7.72 1.47 1.35L5.41 20z\"/>\n",
              "  </svg>\n",
              "      </button>\n",
              "      \n",
              "  <style>\n",
              "    .colab-df-container {\n",
              "      display:flex;\n",
              "      flex-wrap:wrap;\n",
              "      gap: 12px;\n",
              "    }\n",
              "\n",
              "    .colab-df-convert {\n",
              "      background-color: #E8F0FE;\n",
              "      border: none;\n",
              "      border-radius: 50%;\n",
              "      cursor: pointer;\n",
              "      display: none;\n",
              "      fill: #1967D2;\n",
              "      height: 32px;\n",
              "      padding: 0 0 0 0;\n",
              "      width: 32px;\n",
              "    }\n",
              "\n",
              "    .colab-df-convert:hover {\n",
              "      background-color: #E2EBFA;\n",
              "      box-shadow: 0px 1px 2px rgba(60, 64, 67, 0.3), 0px 1px 3px 1px rgba(60, 64, 67, 0.15);\n",
              "      fill: #174EA6;\n",
              "    }\n",
              "\n",
              "    [theme=dark] .colab-df-convert {\n",
              "      background-color: #3B4455;\n",
              "      fill: #D2E3FC;\n",
              "    }\n",
              "\n",
              "    [theme=dark] .colab-df-convert:hover {\n",
              "      background-color: #434B5C;\n",
              "      box-shadow: 0px 1px 3px 1px rgba(0, 0, 0, 0.15);\n",
              "      filter: drop-shadow(0px 1px 2px rgba(0, 0, 0, 0.3));\n",
              "      fill: #FFFFFF;\n",
              "    }\n",
              "  </style>\n",
              "\n",
              "      <script>\n",
              "        const buttonEl =\n",
              "          document.querySelector('#df-0712c29b-d949-47e8-a022-3ce0cba43ddb button.colab-df-convert');\n",
              "        buttonEl.style.display =\n",
              "          google.colab.kernel.accessAllowed ? 'block' : 'none';\n",
              "\n",
              "        async function convertToInteractive(key) {\n",
              "          const element = document.querySelector('#df-0712c29b-d949-47e8-a022-3ce0cba43ddb');\n",
              "          const dataTable =\n",
              "            await google.colab.kernel.invokeFunction('convertToInteractive',\n",
              "                                                     [key], {});\n",
              "          if (!dataTable) return;\n",
              "\n",
              "          const docLinkHtml = 'Like what you see? Visit the ' +\n",
              "            '<a target=\"_blank\" href=https://colab.research.google.com/notebooks/data_table.ipynb>data table notebook</a>'\n",
              "            + ' to learn more about interactive tables.';\n",
              "          element.innerHTML = '';\n",
              "          dataTable['output_type'] = 'display_data';\n",
              "          await google.colab.output.renderOutput(dataTable, element);\n",
              "          const docLink = document.createElement('div');\n",
              "          docLink.innerHTML = docLinkHtml;\n",
              "          element.appendChild(docLink);\n",
              "        }\n",
              "      </script>\n",
              "    </div>\n",
              "  </div>\n",
              "  "
            ]
          },
          "metadata": {},
          "execution_count": 27
        }
      ],
      "source": [
        "df.head()"
      ]
    },
    {
      "cell_type": "code",
      "execution_count": 28,
      "id": "ea6d0154",
      "metadata": {
        "id": "ea6d0154",
        "outputId": "079469a8-a207-42ea-cb49-dc5445e95577",
        "colab": {
          "base_uri": "https://localhost:8080/",
          "height": 206
        }
      },
      "outputs": [
        {
          "output_type": "execute_result",
          "data": {
            "text/plain": [
              "           W         X         Y         Z\n",
              "15  0.386030  2.084019 -0.376519  0.230336\n",
              "16  0.681209  1.035125 -0.031160  1.939932\n",
              "17 -1.005187 -0.741790  0.187125 -0.732845\n",
              "18 -1.382920  1.482495  0.961458 -2.141212\n",
              "19  0.992573  1.192241 -1.046780  1.292765"
            ],
            "text/html": [
              "\n",
              "  <div id=\"df-143d2842-afe5-4605-a4e5-8f74c153b9d0\">\n",
              "    <div class=\"colab-df-container\">\n",
              "      <div>\n",
              "<style scoped>\n",
              "    .dataframe tbody tr th:only-of-type {\n",
              "        vertical-align: middle;\n",
              "    }\n",
              "\n",
              "    .dataframe tbody tr th {\n",
              "        vertical-align: top;\n",
              "    }\n",
              "\n",
              "    .dataframe thead th {\n",
              "        text-align: right;\n",
              "    }\n",
              "</style>\n",
              "<table border=\"1\" class=\"dataframe\">\n",
              "  <thead>\n",
              "    <tr style=\"text-align: right;\">\n",
              "      <th></th>\n",
              "      <th>W</th>\n",
              "      <th>X</th>\n",
              "      <th>Y</th>\n",
              "      <th>Z</th>\n",
              "    </tr>\n",
              "  </thead>\n",
              "  <tbody>\n",
              "    <tr>\n",
              "      <th>15</th>\n",
              "      <td>0.386030</td>\n",
              "      <td>2.084019</td>\n",
              "      <td>-0.376519</td>\n",
              "      <td>0.230336</td>\n",
              "    </tr>\n",
              "    <tr>\n",
              "      <th>16</th>\n",
              "      <td>0.681209</td>\n",
              "      <td>1.035125</td>\n",
              "      <td>-0.031160</td>\n",
              "      <td>1.939932</td>\n",
              "    </tr>\n",
              "    <tr>\n",
              "      <th>17</th>\n",
              "      <td>-1.005187</td>\n",
              "      <td>-0.741790</td>\n",
              "      <td>0.187125</td>\n",
              "      <td>-0.732845</td>\n",
              "    </tr>\n",
              "    <tr>\n",
              "      <th>18</th>\n",
              "      <td>-1.382920</td>\n",
              "      <td>1.482495</td>\n",
              "      <td>0.961458</td>\n",
              "      <td>-2.141212</td>\n",
              "    </tr>\n",
              "    <tr>\n",
              "      <th>19</th>\n",
              "      <td>0.992573</td>\n",
              "      <td>1.192241</td>\n",
              "      <td>-1.046780</td>\n",
              "      <td>1.292765</td>\n",
              "    </tr>\n",
              "  </tbody>\n",
              "</table>\n",
              "</div>\n",
              "      <button class=\"colab-df-convert\" onclick=\"convertToInteractive('df-143d2842-afe5-4605-a4e5-8f74c153b9d0')\"\n",
              "              title=\"Convert this dataframe to an interactive table.\"\n",
              "              style=\"display:none;\">\n",
              "        \n",
              "  <svg xmlns=\"http://www.w3.org/2000/svg\" height=\"24px\"viewBox=\"0 0 24 24\"\n",
              "       width=\"24px\">\n",
              "    <path d=\"M0 0h24v24H0V0z\" fill=\"none\"/>\n",
              "    <path d=\"M18.56 5.44l.94 2.06.94-2.06 2.06-.94-2.06-.94-.94-2.06-.94 2.06-2.06.94zm-11 1L8.5 8.5l.94-2.06 2.06-.94-2.06-.94L8.5 2.5l-.94 2.06-2.06.94zm10 10l.94 2.06.94-2.06 2.06-.94-2.06-.94-.94-2.06-.94 2.06-2.06.94z\"/><path d=\"M17.41 7.96l-1.37-1.37c-.4-.4-.92-.59-1.43-.59-.52 0-1.04.2-1.43.59L10.3 9.45l-7.72 7.72c-.78.78-.78 2.05 0 2.83L4 21.41c.39.39.9.59 1.41.59.51 0 1.02-.2 1.41-.59l7.78-7.78 2.81-2.81c.8-.78.8-2.07 0-2.86zM5.41 20L4 18.59l7.72-7.72 1.47 1.35L5.41 20z\"/>\n",
              "  </svg>\n",
              "      </button>\n",
              "      \n",
              "  <style>\n",
              "    .colab-df-container {\n",
              "      display:flex;\n",
              "      flex-wrap:wrap;\n",
              "      gap: 12px;\n",
              "    }\n",
              "\n",
              "    .colab-df-convert {\n",
              "      background-color: #E8F0FE;\n",
              "      border: none;\n",
              "      border-radius: 50%;\n",
              "      cursor: pointer;\n",
              "      display: none;\n",
              "      fill: #1967D2;\n",
              "      height: 32px;\n",
              "      padding: 0 0 0 0;\n",
              "      width: 32px;\n",
              "    }\n",
              "\n",
              "    .colab-df-convert:hover {\n",
              "      background-color: #E2EBFA;\n",
              "      box-shadow: 0px 1px 2px rgba(60, 64, 67, 0.3), 0px 1px 3px 1px rgba(60, 64, 67, 0.15);\n",
              "      fill: #174EA6;\n",
              "    }\n",
              "\n",
              "    [theme=dark] .colab-df-convert {\n",
              "      background-color: #3B4455;\n",
              "      fill: #D2E3FC;\n",
              "    }\n",
              "\n",
              "    [theme=dark] .colab-df-convert:hover {\n",
              "      background-color: #434B5C;\n",
              "      box-shadow: 0px 1px 3px 1px rgba(0, 0, 0, 0.15);\n",
              "      filter: drop-shadow(0px 1px 2px rgba(0, 0, 0, 0.3));\n",
              "      fill: #FFFFFF;\n",
              "    }\n",
              "  </style>\n",
              "\n",
              "      <script>\n",
              "        const buttonEl =\n",
              "          document.querySelector('#df-143d2842-afe5-4605-a4e5-8f74c153b9d0 button.colab-df-convert');\n",
              "        buttonEl.style.display =\n",
              "          google.colab.kernel.accessAllowed ? 'block' : 'none';\n",
              "\n",
              "        async function convertToInteractive(key) {\n",
              "          const element = document.querySelector('#df-143d2842-afe5-4605-a4e5-8f74c153b9d0');\n",
              "          const dataTable =\n",
              "            await google.colab.kernel.invokeFunction('convertToInteractive',\n",
              "                                                     [key], {});\n",
              "          if (!dataTable) return;\n",
              "\n",
              "          const docLinkHtml = 'Like what you see? Visit the ' +\n",
              "            '<a target=\"_blank\" href=https://colab.research.google.com/notebooks/data_table.ipynb>data table notebook</a>'\n",
              "            + ' to learn more about interactive tables.';\n",
              "          element.innerHTML = '';\n",
              "          dataTable['output_type'] = 'display_data';\n",
              "          await google.colab.output.renderOutput(dataTable, element);\n",
              "          const docLink = document.createElement('div');\n",
              "          docLink.innerHTML = docLinkHtml;\n",
              "          element.appendChild(docLink);\n",
              "        }\n",
              "      </script>\n",
              "    </div>\n",
              "  </div>\n",
              "  "
            ]
          },
          "metadata": {},
          "execution_count": 28
        }
      ],
      "source": [
        "df.tail()"
      ]
    },
    {
      "cell_type": "code",
      "execution_count": 29,
      "id": "c3db8567",
      "metadata": {
        "id": "c3db8567",
        "outputId": "683327db-cab2-4d61-9bca-e18ca97115a4",
        "colab": {
          "base_uri": "https://localhost:8080/",
          "height": 363
        }
      },
      "outputs": [
        {
          "output_type": "execute_result",
          "data": {
            "text/plain": [
              "           W         X         Y         Z\n",
              "12  2.154846 -0.610259 -0.755325 -0.346419\n",
              "0   2.706850  0.628133  0.907969  0.503826\n",
              "17 -1.005187 -0.741790  0.187125 -0.732845\n",
              "10 -0.993263  0.196800 -1.136645  0.000366\n",
              "2  -2.018168  0.740122  0.528813 -0.589001\n",
              "5   0.302665  1.693723 -1.706086 -1.159119\n",
              "7   0.807706  0.072960  0.638787  0.329646\n",
              "15  0.386030  2.084019 -0.376519  0.230336\n",
              "19  0.992573  1.192241 -1.046780  1.292765\n",
              "16  0.681209  1.035125 -0.031160  1.939932"
            ],
            "text/html": [
              "\n",
              "  <div id=\"df-60d315d2-b528-4dc3-91ea-a5f986be1941\">\n",
              "    <div class=\"colab-df-container\">\n",
              "      <div>\n",
              "<style scoped>\n",
              "    .dataframe tbody tr th:only-of-type {\n",
              "        vertical-align: middle;\n",
              "    }\n",
              "\n",
              "    .dataframe tbody tr th {\n",
              "        vertical-align: top;\n",
              "    }\n",
              "\n",
              "    .dataframe thead th {\n",
              "        text-align: right;\n",
              "    }\n",
              "</style>\n",
              "<table border=\"1\" class=\"dataframe\">\n",
              "  <thead>\n",
              "    <tr style=\"text-align: right;\">\n",
              "      <th></th>\n",
              "      <th>W</th>\n",
              "      <th>X</th>\n",
              "      <th>Y</th>\n",
              "      <th>Z</th>\n",
              "    </tr>\n",
              "  </thead>\n",
              "  <tbody>\n",
              "    <tr>\n",
              "      <th>12</th>\n",
              "      <td>2.154846</td>\n",
              "      <td>-0.610259</td>\n",
              "      <td>-0.755325</td>\n",
              "      <td>-0.346419</td>\n",
              "    </tr>\n",
              "    <tr>\n",
              "      <th>0</th>\n",
              "      <td>2.706850</td>\n",
              "      <td>0.628133</td>\n",
              "      <td>0.907969</td>\n",
              "      <td>0.503826</td>\n",
              "    </tr>\n",
              "    <tr>\n",
              "      <th>17</th>\n",
              "      <td>-1.005187</td>\n",
              "      <td>-0.741790</td>\n",
              "      <td>0.187125</td>\n",
              "      <td>-0.732845</td>\n",
              "    </tr>\n",
              "    <tr>\n",
              "      <th>10</th>\n",
              "      <td>-0.993263</td>\n",
              "      <td>0.196800</td>\n",
              "      <td>-1.136645</td>\n",
              "      <td>0.000366</td>\n",
              "    </tr>\n",
              "    <tr>\n",
              "      <th>2</th>\n",
              "      <td>-2.018168</td>\n",
              "      <td>0.740122</td>\n",
              "      <td>0.528813</td>\n",
              "      <td>-0.589001</td>\n",
              "    </tr>\n",
              "    <tr>\n",
              "      <th>5</th>\n",
              "      <td>0.302665</td>\n",
              "      <td>1.693723</td>\n",
              "      <td>-1.706086</td>\n",
              "      <td>-1.159119</td>\n",
              "    </tr>\n",
              "    <tr>\n",
              "      <th>7</th>\n",
              "      <td>0.807706</td>\n",
              "      <td>0.072960</td>\n",
              "      <td>0.638787</td>\n",
              "      <td>0.329646</td>\n",
              "    </tr>\n",
              "    <tr>\n",
              "      <th>15</th>\n",
              "      <td>0.386030</td>\n",
              "      <td>2.084019</td>\n",
              "      <td>-0.376519</td>\n",
              "      <td>0.230336</td>\n",
              "    </tr>\n",
              "    <tr>\n",
              "      <th>19</th>\n",
              "      <td>0.992573</td>\n",
              "      <td>1.192241</td>\n",
              "      <td>-1.046780</td>\n",
              "      <td>1.292765</td>\n",
              "    </tr>\n",
              "    <tr>\n",
              "      <th>16</th>\n",
              "      <td>0.681209</td>\n",
              "      <td>1.035125</td>\n",
              "      <td>-0.031160</td>\n",
              "      <td>1.939932</td>\n",
              "    </tr>\n",
              "  </tbody>\n",
              "</table>\n",
              "</div>\n",
              "      <button class=\"colab-df-convert\" onclick=\"convertToInteractive('df-60d315d2-b528-4dc3-91ea-a5f986be1941')\"\n",
              "              title=\"Convert this dataframe to an interactive table.\"\n",
              "              style=\"display:none;\">\n",
              "        \n",
              "  <svg xmlns=\"http://www.w3.org/2000/svg\" height=\"24px\"viewBox=\"0 0 24 24\"\n",
              "       width=\"24px\">\n",
              "    <path d=\"M0 0h24v24H0V0z\" fill=\"none\"/>\n",
              "    <path d=\"M18.56 5.44l.94 2.06.94-2.06 2.06-.94-2.06-.94-.94-2.06-.94 2.06-2.06.94zm-11 1L8.5 8.5l.94-2.06 2.06-.94-2.06-.94L8.5 2.5l-.94 2.06-2.06.94zm10 10l.94 2.06.94-2.06 2.06-.94-2.06-.94-.94-2.06-.94 2.06-2.06.94z\"/><path d=\"M17.41 7.96l-1.37-1.37c-.4-.4-.92-.59-1.43-.59-.52 0-1.04.2-1.43.59L10.3 9.45l-7.72 7.72c-.78.78-.78 2.05 0 2.83L4 21.41c.39.39.9.59 1.41.59.51 0 1.02-.2 1.41-.59l7.78-7.78 2.81-2.81c.8-.78.8-2.07 0-2.86zM5.41 20L4 18.59l7.72-7.72 1.47 1.35L5.41 20z\"/>\n",
              "  </svg>\n",
              "      </button>\n",
              "      \n",
              "  <style>\n",
              "    .colab-df-container {\n",
              "      display:flex;\n",
              "      flex-wrap:wrap;\n",
              "      gap: 12px;\n",
              "    }\n",
              "\n",
              "    .colab-df-convert {\n",
              "      background-color: #E8F0FE;\n",
              "      border: none;\n",
              "      border-radius: 50%;\n",
              "      cursor: pointer;\n",
              "      display: none;\n",
              "      fill: #1967D2;\n",
              "      height: 32px;\n",
              "      padding: 0 0 0 0;\n",
              "      width: 32px;\n",
              "    }\n",
              "\n",
              "    .colab-df-convert:hover {\n",
              "      background-color: #E2EBFA;\n",
              "      box-shadow: 0px 1px 2px rgba(60, 64, 67, 0.3), 0px 1px 3px 1px rgba(60, 64, 67, 0.15);\n",
              "      fill: #174EA6;\n",
              "    }\n",
              "\n",
              "    [theme=dark] .colab-df-convert {\n",
              "      background-color: #3B4455;\n",
              "      fill: #D2E3FC;\n",
              "    }\n",
              "\n",
              "    [theme=dark] .colab-df-convert:hover {\n",
              "      background-color: #434B5C;\n",
              "      box-shadow: 0px 1px 3px 1px rgba(0, 0, 0, 0.15);\n",
              "      filter: drop-shadow(0px 1px 2px rgba(0, 0, 0, 0.3));\n",
              "      fill: #FFFFFF;\n",
              "    }\n",
              "  </style>\n",
              "\n",
              "      <script>\n",
              "        const buttonEl =\n",
              "          document.querySelector('#df-60d315d2-b528-4dc3-91ea-a5f986be1941 button.colab-df-convert');\n",
              "        buttonEl.style.display =\n",
              "          google.colab.kernel.accessAllowed ? 'block' : 'none';\n",
              "\n",
              "        async function convertToInteractive(key) {\n",
              "          const element = document.querySelector('#df-60d315d2-b528-4dc3-91ea-a5f986be1941');\n",
              "          const dataTable =\n",
              "            await google.colab.kernel.invokeFunction('convertToInteractive',\n",
              "                                                     [key], {});\n",
              "          if (!dataTable) return;\n",
              "\n",
              "          const docLinkHtml = 'Like what you see? Visit the ' +\n",
              "            '<a target=\"_blank\" href=https://colab.research.google.com/notebooks/data_table.ipynb>data table notebook</a>'\n",
              "            + ' to learn more about interactive tables.';\n",
              "          element.innerHTML = '';\n",
              "          dataTable['output_type'] = 'display_data';\n",
              "          await google.colab.output.renderOutput(dataTable, element);\n",
              "          const docLink = document.createElement('div');\n",
              "          docLink.innerHTML = docLinkHtml;\n",
              "          element.appendChild(docLink);\n",
              "        }\n",
              "      </script>\n",
              "    </div>\n",
              "  </div>\n",
              "  "
            ]
          },
          "metadata": {},
          "execution_count": 29
        }
      ],
      "source": [
        "df.sample(10)"
      ]
    },
    {
      "cell_type": "code",
      "execution_count": 30,
      "id": "d765d214",
      "metadata": {
        "id": "d765d214",
        "outputId": "c7f5f8e3-5335-492c-9cbc-f16e82c26079",
        "colab": {
          "base_uri": "https://localhost:8080/",
          "height": 112
        }
      },
      "outputs": [
        {
          "output_type": "execute_result",
          "data": {
            "text/plain": [
              "           W         X         Y         Z\n",
              "19  0.992573  1.192241 -1.046780  1.292765\n",
              "3   0.188695 -0.758872 -0.933237  0.955057"
            ],
            "text/html": [
              "\n",
              "  <div id=\"df-11ea319f-e527-4fe2-ba55-3e1c756410f8\">\n",
              "    <div class=\"colab-df-container\">\n",
              "      <div>\n",
              "<style scoped>\n",
              "    .dataframe tbody tr th:only-of-type {\n",
              "        vertical-align: middle;\n",
              "    }\n",
              "\n",
              "    .dataframe tbody tr th {\n",
              "        vertical-align: top;\n",
              "    }\n",
              "\n",
              "    .dataframe thead th {\n",
              "        text-align: right;\n",
              "    }\n",
              "</style>\n",
              "<table border=\"1\" class=\"dataframe\">\n",
              "  <thead>\n",
              "    <tr style=\"text-align: right;\">\n",
              "      <th></th>\n",
              "      <th>W</th>\n",
              "      <th>X</th>\n",
              "      <th>Y</th>\n",
              "      <th>Z</th>\n",
              "    </tr>\n",
              "  </thead>\n",
              "  <tbody>\n",
              "    <tr>\n",
              "      <th>19</th>\n",
              "      <td>0.992573</td>\n",
              "      <td>1.192241</td>\n",
              "      <td>-1.046780</td>\n",
              "      <td>1.292765</td>\n",
              "    </tr>\n",
              "    <tr>\n",
              "      <th>3</th>\n",
              "      <td>0.188695</td>\n",
              "      <td>-0.758872</td>\n",
              "      <td>-0.933237</td>\n",
              "      <td>0.955057</td>\n",
              "    </tr>\n",
              "  </tbody>\n",
              "</table>\n",
              "</div>\n",
              "      <button class=\"colab-df-convert\" onclick=\"convertToInteractive('df-11ea319f-e527-4fe2-ba55-3e1c756410f8')\"\n",
              "              title=\"Convert this dataframe to an interactive table.\"\n",
              "              style=\"display:none;\">\n",
              "        \n",
              "  <svg xmlns=\"http://www.w3.org/2000/svg\" height=\"24px\"viewBox=\"0 0 24 24\"\n",
              "       width=\"24px\">\n",
              "    <path d=\"M0 0h24v24H0V0z\" fill=\"none\"/>\n",
              "    <path d=\"M18.56 5.44l.94 2.06.94-2.06 2.06-.94-2.06-.94-.94-2.06-.94 2.06-2.06.94zm-11 1L8.5 8.5l.94-2.06 2.06-.94-2.06-.94L8.5 2.5l-.94 2.06-2.06.94zm10 10l.94 2.06.94-2.06 2.06-.94-2.06-.94-.94-2.06-.94 2.06-2.06.94z\"/><path d=\"M17.41 7.96l-1.37-1.37c-.4-.4-.92-.59-1.43-.59-.52 0-1.04.2-1.43.59L10.3 9.45l-7.72 7.72c-.78.78-.78 2.05 0 2.83L4 21.41c.39.39.9.59 1.41.59.51 0 1.02-.2 1.41-.59l7.78-7.78 2.81-2.81c.8-.78.8-2.07 0-2.86zM5.41 20L4 18.59l7.72-7.72 1.47 1.35L5.41 20z\"/>\n",
              "  </svg>\n",
              "      </button>\n",
              "      \n",
              "  <style>\n",
              "    .colab-df-container {\n",
              "      display:flex;\n",
              "      flex-wrap:wrap;\n",
              "      gap: 12px;\n",
              "    }\n",
              "\n",
              "    .colab-df-convert {\n",
              "      background-color: #E8F0FE;\n",
              "      border: none;\n",
              "      border-radius: 50%;\n",
              "      cursor: pointer;\n",
              "      display: none;\n",
              "      fill: #1967D2;\n",
              "      height: 32px;\n",
              "      padding: 0 0 0 0;\n",
              "      width: 32px;\n",
              "    }\n",
              "\n",
              "    .colab-df-convert:hover {\n",
              "      background-color: #E2EBFA;\n",
              "      box-shadow: 0px 1px 2px rgba(60, 64, 67, 0.3), 0px 1px 3px 1px rgba(60, 64, 67, 0.15);\n",
              "      fill: #174EA6;\n",
              "    }\n",
              "\n",
              "    [theme=dark] .colab-df-convert {\n",
              "      background-color: #3B4455;\n",
              "      fill: #D2E3FC;\n",
              "    }\n",
              "\n",
              "    [theme=dark] .colab-df-convert:hover {\n",
              "      background-color: #434B5C;\n",
              "      box-shadow: 0px 1px 3px 1px rgba(0, 0, 0, 0.15);\n",
              "      filter: drop-shadow(0px 1px 2px rgba(0, 0, 0, 0.3));\n",
              "      fill: #FFFFFF;\n",
              "    }\n",
              "  </style>\n",
              "\n",
              "      <script>\n",
              "        const buttonEl =\n",
              "          document.querySelector('#df-11ea319f-e527-4fe2-ba55-3e1c756410f8 button.colab-df-convert');\n",
              "        buttonEl.style.display =\n",
              "          google.colab.kernel.accessAllowed ? 'block' : 'none';\n",
              "\n",
              "        async function convertToInteractive(key) {\n",
              "          const element = document.querySelector('#df-11ea319f-e527-4fe2-ba55-3e1c756410f8');\n",
              "          const dataTable =\n",
              "            await google.colab.kernel.invokeFunction('convertToInteractive',\n",
              "                                                     [key], {});\n",
              "          if (!dataTable) return;\n",
              "\n",
              "          const docLinkHtml = 'Like what you see? Visit the ' +\n",
              "            '<a target=\"_blank\" href=https://colab.research.google.com/notebooks/data_table.ipynb>data table notebook</a>'\n",
              "            + ' to learn more about interactive tables.';\n",
              "          element.innerHTML = '';\n",
              "          dataTable['output_type'] = 'display_data';\n",
              "          await google.colab.output.renderOutput(dataTable, element);\n",
              "          const docLink = document.createElement('div');\n",
              "          docLink.innerHTML = docLinkHtml;\n",
              "          element.appendChild(docLink);\n",
              "        }\n",
              "      </script>\n",
              "    </div>\n",
              "  </div>\n",
              "  "
            ]
          },
          "metadata": {},
          "execution_count": 30
        }
      ],
      "source": [
        "df.sample(frac=0.1)"
      ]
    },
    {
      "cell_type": "code",
      "execution_count": 31,
      "id": "92512478",
      "metadata": {
        "id": "92512478",
        "outputId": "2d4a1765-cb35-438d-a252-845b260d844e",
        "colab": {
          "base_uri": "https://localhost:8080/"
        }
      },
      "outputs": [
        {
          "output_type": "stream",
          "name": "stdout",
          "text": [
            "<class 'pandas.core.frame.DataFrame'>\n",
            "RangeIndex: 20 entries, 0 to 19\n",
            "Data columns (total 4 columns):\n",
            " #   Column  Non-Null Count  Dtype  \n",
            "---  ------  --------------  -----  \n",
            " 0   W       20 non-null     float64\n",
            " 1   X       20 non-null     float64\n",
            " 2   Y       20 non-null     float64\n",
            " 3   Z       20 non-null     float64\n",
            "dtypes: float64(4)\n",
            "memory usage: 768.0 bytes\n"
          ]
        }
      ],
      "source": [
        "df.info()"
      ]
    },
    {
      "cell_type": "code",
      "execution_count": 32,
      "id": "b83034b2",
      "metadata": {
        "id": "b83034b2",
        "outputId": "7305cc8f-f5e0-43e8-b06a-663a4aeae018",
        "colab": {
          "base_uri": "https://localhost:8080/"
        }
      },
      "outputs": [
        {
          "output_type": "execute_result",
          "data": {
            "text/plain": [
              "(20, 4)"
            ]
          },
          "metadata": {},
          "execution_count": 32
        }
      ],
      "source": [
        "df.shape"
      ]
    },
    {
      "cell_type": "markdown",
      "id": "ed0eab9d",
      "metadata": {
        "id": "ed0eab9d"
      },
      "source": [
        "#### 2.2 Leitura e saída de Dados CSV do disco\n",
        "\n",
        "<img src='https://pandas.pydata.org/docs/_images/02_io_readwrite.svg'>"
      ]
    },
    {
      "cell_type": "code",
      "source": [
        "# Se usar o colab, você precisa fazer a montagem do diretório principal\n",
        "# from google.colab import drive\n",
        "# drive.mount('/content/drive')"
      ],
      "metadata": {
        "id": "smADxn87rC7S",
        "outputId": "13682aa1-8efa-478b-d890-15c09eca32eb",
        "colab": {
          "base_uri": "https://localhost:8080/"
        }
      },
      "id": "smADxn87rC7S",
      "execution_count": 35,
      "outputs": [
        {
          "output_type": "stream",
          "name": "stdout",
          "text": [
            "Mounted at /content/drive\n"
          ]
        }
      ]
    },
    {
      "cell_type": "markdown",
      "id": "f8449753",
      "metadata": {
        "id": "f8449753"
      },
      "source": [
        "##### 2.2.1 Saída de Dados"
      ]
    },
    {
      "cell_type": "code",
      "execution_count": 37,
      "id": "d115edbe",
      "metadata": {
        "id": "d115edbe"
      },
      "outputs": [],
      "source": [
        "#CSV\n",
        "df.to_csv('data/exemplo.csv', index=False)"
      ]
    },
    {
      "cell_type": "code",
      "execution_count": 38,
      "id": "76bcdb6c",
      "metadata": {
        "id": "76bcdb6c"
      },
      "outputs": [],
      "source": [
        "#Excel\n",
        "df.to_excel('data/exemplo.xlsx', index=False)"
      ]
    },
    {
      "cell_type": "code",
      "execution_count": 39,
      "id": "519a1372",
      "metadata": {
        "id": "519a1372"
      },
      "outputs": [],
      "source": [
        "#JSON\n",
        "df.to_json('data/exemplo.json', orient='table')"
      ]
    },
    {
      "cell_type": "markdown",
      "id": "36ac9592",
      "metadata": {
        "id": "36ac9592"
      },
      "source": [
        "##### 2.2.2 Leitura de Dados "
      ]
    },
    {
      "cell_type": "code",
      "execution_count": null,
      "id": "6f3613a2",
      "metadata": {
        "id": "6f3613a2"
      },
      "outputs": [],
      "source": [
        "#CSV\n",
        "df_csv = pd.read_csv('data/exemplo.csv')\n",
        "df_csv.head()"
      ]
    },
    {
      "cell_type": "code",
      "execution_count": null,
      "id": "eec7aaab",
      "metadata": {
        "id": "eec7aaab"
      },
      "outputs": [],
      "source": [
        "#Excel\n",
        "df_excel = pd.read_excel('data/exemplo.xlsx')\n",
        "df_excel.head()"
      ]
    },
    {
      "cell_type": "code",
      "execution_count": null,
      "id": "37e8beba",
      "metadata": {
        "id": "37e8beba"
      },
      "outputs": [],
      "source": [
        "#JSON\n",
        "df_json = pd.read_json('data/exemplo.json', orient='table')\n",
        "df_json.head()"
      ]
    },
    {
      "cell_type": "markdown",
      "id": "05c64aab",
      "metadata": {
        "id": "05c64aab"
      },
      "source": [
        "#### 2.3 Leitura de dados da internet\n",
        "\n",
        "##### HTML\n",
        "- Para usar o pd.read_html pode ser necessário instalar as seguintes dependências\n",
        "    - conda install lxml -y\n",
        "    - conda install html5lib\n",
        "    - conda install BeautifulSoup4"
      ]
    },
    {
      "cell_type": "code",
      "execution_count": null,
      "id": "6be0f77e",
      "metadata": {
        "id": "6be0f77e"
      },
      "outputs": [],
      "source": [
        "url = 'https://en.wikipedia.org/wiki/Minnesota'\n",
        "tables = pd.read_html(url)\n",
        "df_html = tables[0]"
      ]
    },
    {
      "cell_type": "code",
      "execution_count": null,
      "id": "32e67d29",
      "metadata": {
        "id": "32e67d29"
      },
      "outputs": [],
      "source": [
        "df_html"
      ]
    },
    {
      "cell_type": "markdown",
      "id": "7afdd7a2",
      "metadata": {
        "id": "7afdd7a2"
      },
      "source": [
        "## 3.0 Operações em Dataframes"
      ]
    },
    {
      "cell_type": "code",
      "execution_count": null,
      "id": "55a3669c",
      "metadata": {
        "id": "55a3669c"
      },
      "outputs": [],
      "source": [
        "df.head()"
      ]
    },
    {
      "cell_type": "code",
      "source": [
        "### 3.1 Manipulando index"
      ],
      "metadata": {
        "id": "xv-RVMsnqClj"
      },
      "id": "xv-RVMsnqClj",
      "execution_count": 34,
      "outputs": []
    },
    {
      "cell_type": "code",
      "execution_count": null,
      "id": "7da97cc3",
      "metadata": {
        "id": "7da97cc3"
      },
      "outputs": [],
      "source": [
        "df.index"
      ]
    },
    {
      "cell_type": "code",
      "execution_count": null,
      "id": "f22558f9",
      "metadata": {
        "id": "f22558f9"
      },
      "outputs": [],
      "source": [
        "list(df.index)"
      ]
    },
    {
      "cell_type": "markdown",
      "id": "1ade639d",
      "metadata": {
        "id": "1ade639d"
      },
      "source": [
        "#### 3.1 Selecionando um novo index"
      ]
    },
    {
      "cell_type": "code",
      "execution_count": null,
      "id": "584b9b91",
      "metadata": {
        "id": "584b9b91"
      },
      "outputs": [],
      "source": [
        "df.set_index('W')"
      ]
    },
    {
      "cell_type": "code",
      "execution_count": null,
      "id": "948f6ecf",
      "metadata": {
        "id": "948f6ecf"
      },
      "outputs": [],
      "source": [
        "##### Resetando o índice atual\n",
        "df.reset_index(inplace=True)"
      ]
    },
    {
      "cell_type": "code",
      "execution_count": null,
      "id": "f56e3964",
      "metadata": {
        "id": "f56e3964"
      },
      "outputs": [],
      "source": [
        "df.set_index('W', inplace=True)\n",
        "df"
      ]
    },
    {
      "cell_type": "code",
      "execution_count": null,
      "id": "89bc471f",
      "metadata": {
        "id": "89bc471f"
      },
      "outputs": [],
      "source": [
        "df.reset_index(inplace=True)"
      ]
    },
    {
      "cell_type": "code",
      "execution_count": null,
      "id": "b2401e72",
      "metadata": {
        "id": "b2401e72"
      },
      "outputs": [],
      "source": [
        "df.set_index('Z', inplace=True)\n",
        "df"
      ]
    },
    {
      "cell_type": "code",
      "execution_count": null,
      "id": "6d519d33",
      "metadata": {
        "id": "6d519d33"
      },
      "outputs": [],
      "source": [
        "df.reset_index(inplace=True)"
      ]
    },
    {
      "cell_type": "markdown",
      "id": "122d58ac",
      "metadata": {
        "id": "122d58ac"
      },
      "source": [
        "## 4.0 Seleção de Dados usando Pandas\n",
        "\n",
        "<img src='https://pandas.pydata.org/docs/_images/03_subset_rows.svg'>\n",
        "\n",
        "Existem quatro abordagens principais de seleção de dados usando um dataframe\n",
        "- 1. Selecionando colunas\n",
        "- 2. Seleção de dados usando `loc` e `iloc`\n",
        "- 3. Seleção condicional\n",
        "- 4. Seleção de dados por tipo de dados\n"
      ]
    },
    {
      "cell_type": "markdown",
      "id": "50a02ad5",
      "metadata": {
        "id": "50a02ad5"
      },
      "source": [
        "#### 4.1 Selecionar por coluna"
      ]
    },
    {
      "cell_type": "code",
      "execution_count": null,
      "id": "eda28393",
      "metadata": {
        "id": "eda28393"
      },
      "outputs": [],
      "source": [
        "df['W']"
      ]
    },
    {
      "cell_type": "code",
      "execution_count": null,
      "id": "374c6593",
      "metadata": {
        "id": "374c6593"
      },
      "outputs": [],
      "source": [
        "# Sintaxe SQL (Não recomendado!)\n",
        "df.W"
      ]
    },
    {
      "cell_type": "code",
      "execution_count": null,
      "id": "33663bd1",
      "metadata": {
        "id": "33663bd1"
      },
      "outputs": [],
      "source": [
        "#Selecionar mais de uma coluna\n",
        "df[['W','Z']]"
      ]
    },
    {
      "cell_type": "code",
      "execution_count": null,
      "id": "3ebb9354",
      "metadata": {
        "id": "3ebb9354"
      },
      "outputs": [],
      "source": [
        "#Selecionar mais de uma coluna\n",
        "df[['X','Z']]"
      ]
    },
    {
      "cell_type": "markdown",
      "id": "3f7e4764",
      "metadata": {
        "id": "3f7e4764"
      },
      "source": [
        "#### 4.2 Selecão por index (loc) ou posição(iloc)\n",
        "\n",
        "O método ``loc`` faz seleção usando o index do data frame, tanto para linha como para coluna. \n",
        "\n",
        "``df.loc[rows, cols]``"
      ]
    },
    {
      "cell_type": "code",
      "execution_count": null,
      "id": "7212e6de",
      "metadata": {
        "id": "7212e6de"
      },
      "outputs": [],
      "source": [
        "df.head()"
      ]
    },
    {
      "cell_type": "code",
      "execution_count": null,
      "id": "9d861e00",
      "metadata": {
        "id": "9d861e00"
      },
      "outputs": [],
      "source": [
        "df.loc[5:10]"
      ]
    },
    {
      "cell_type": "code",
      "execution_count": null,
      "id": "92adfecd",
      "metadata": {
        "id": "92adfecd"
      },
      "outputs": [],
      "source": [
        "df.loc[10:12, ['X','Z']]"
      ]
    },
    {
      "cell_type": "markdown",
      "id": "c4e19619",
      "metadata": {
        "id": "c4e19619"
      },
      "source": [
        "O método ``iloc`` faz seleção usando a posição dos dados no data frame, tanto para linha como para coluna. "
      ]
    },
    {
      "cell_type": "code",
      "execution_count": null,
      "id": "7dfc2ae8",
      "metadata": {
        "id": "7dfc2ae8"
      },
      "outputs": [],
      "source": [
        "df.iloc[2]"
      ]
    },
    {
      "cell_type": "code",
      "execution_count": null,
      "id": "08fbb52e",
      "metadata": {
        "id": "08fbb52e"
      },
      "outputs": [],
      "source": [
        "df.iloc[5:10]"
      ]
    },
    {
      "cell_type": "code",
      "execution_count": null,
      "id": "15b0f86e",
      "metadata": {
        "id": "15b0f86e"
      },
      "outputs": [],
      "source": [
        "df.iloc[5:10, 2]"
      ]
    },
    {
      "cell_type": "markdown",
      "id": "b8ed878e",
      "metadata": {
        "id": "b8ed878e"
      },
      "source": [
        "##### Diferenciando LOC x ILOC"
      ]
    },
    {
      "cell_type": "code",
      "execution_count": null,
      "id": "02c5eabd",
      "metadata": {
        "id": "02c5eabd"
      },
      "outputs": [],
      "source": [
        "import random"
      ]
    },
    {
      "cell_type": "code",
      "execution_count": null,
      "id": "1e0d4c66",
      "metadata": {
        "id": "1e0d4c66"
      },
      "outputs": [],
      "source": [
        "n_rows = df.shape[0]\n",
        "meses = ['jan', 'fev', 'mar', 'abr', 'mai', 'jun', 'jul', 'ago', 'out', 'nov', 'dez'] * 2\n",
        "df['mes'] = random.sample(meses, n_rows)"
      ]
    },
    {
      "cell_type": "code",
      "execution_count": null,
      "id": "1c46367b",
      "metadata": {
        "id": "1c46367b"
      },
      "outputs": [],
      "source": [
        "%%time\n",
        "df.set_index('mes', inplace=True)\n",
        "df.head()"
      ]
    },
    {
      "cell_type": "code",
      "execution_count": null,
      "id": "bc8a85b0",
      "metadata": {
        "id": "bc8a85b0"
      },
      "outputs": [],
      "source": [
        "df.loc['fev', ['X','W']]"
      ]
    },
    {
      "cell_type": "code",
      "execution_count": null,
      "id": "6e78aa2d",
      "metadata": {
        "id": "6e78aa2d"
      },
      "outputs": [],
      "source": [
        "df.reset_index(inplace=True)"
      ]
    },
    {
      "cell_type": "markdown",
      "id": "9ddee56e",
      "metadata": {
        "id": "9ddee56e"
      },
      "source": [
        "#### 4.3 Seleção condicional"
      ]
    },
    {
      "cell_type": "code",
      "execution_count": null,
      "id": "660d063c",
      "metadata": {
        "id": "660d063c"
      },
      "outputs": [],
      "source": [
        "df.head()"
      ]
    },
    {
      "cell_type": "code",
      "execution_count": null,
      "id": "165e8fb8",
      "metadata": {
        "id": "165e8fb8"
      },
      "outputs": [],
      "source": [
        "filter_W_positivo = df['W'] > 0\n",
        "filter_W_negativo = df['W'] < 0"
      ]
    },
    {
      "cell_type": "code",
      "execution_count": null,
      "id": "611b032d",
      "metadata": {
        "id": "611b032d"
      },
      "outputs": [],
      "source": [
        "df[filter_W_positivo]"
      ]
    },
    {
      "cell_type": "code",
      "execution_count": null,
      "id": "12ad869d",
      "metadata": {
        "id": "12ad869d"
      },
      "outputs": [],
      "source": [
        "#o filtro pode ser passado diretamente\n",
        "df[df['W'] > 0]"
      ]
    },
    {
      "cell_type": "markdown",
      "id": "1092d0b0",
      "metadata": {
        "id": "1092d0b0"
      },
      "source": [
        "Para duas condições, você pode usar ``|`` e ``&`` com parênteses:"
      ]
    },
    {
      "cell_type": "code",
      "execution_count": null,
      "id": "95e5c1ea",
      "metadata": {
        "id": "95e5c1ea"
      },
      "outputs": [],
      "source": [
        "filter_W_Y_positivo = (df['W']>0) & (df['Y'] > 0)\n",
        "df[filter_W_Y_positivo]"
      ]
    },
    {
      "cell_type": "markdown",
      "id": "aa9af2ea",
      "metadata": {
        "id": "aa9af2ea"
      },
      "source": [
        "Você pode selecionar dados fazendo verificações de dados de texto baseado em regex"
      ]
    },
    {
      "cell_type": "code",
      "execution_count": null,
      "id": "0d25343b",
      "metadata": {
        "id": "0d25343b"
      },
      "outputs": [],
      "source": [
        "df[df['mes'].str.contains('a')]"
      ]
    },
    {
      "cell_type": "code",
      "execution_count": null,
      "id": "78eeb0a7",
      "metadata": {
        "id": "78eeb0a7"
      },
      "outputs": [],
      "source": [
        "#Mêses que começa com a ``letra a``\n",
        "df[df['mes'].str.contains('^a')]"
      ]
    },
    {
      "cell_type": "code",
      "execution_count": null,
      "id": "425cb609",
      "metadata": {
        "id": "425cb609"
      },
      "outputs": [],
      "source": [
        "df[df['mes'].str.contains('^[a-z]')]"
      ]
    },
    {
      "cell_type": "code",
      "execution_count": null,
      "id": "0fe79e9f",
      "metadata": {
        "id": "0fe79e9f"
      },
      "outputs": [],
      "source": [
        "#seleção por conjunto de dados\n",
        "lista_mes = ['jun', 'fev', 'jul']\n",
        "df[df['mes'].isin(lista_mes)]"
      ]
    },
    {
      "cell_type": "markdown",
      "id": "5752852e",
      "metadata": {
        "id": "5752852e"
      },
      "source": [
        "#### 4.4 Seleção por tipo de dados"
      ]
    },
    {
      "cell_type": "code",
      "execution_count": null,
      "id": "b49bcd79",
      "metadata": {
        "id": "b49bcd79"
      },
      "outputs": [],
      "source": [
        "df['J'] = df['W'].astype(int)"
      ]
    },
    {
      "cell_type": "code",
      "execution_count": null,
      "id": "6f7d83c1",
      "metadata": {
        "id": "6f7d83c1"
      },
      "outputs": [],
      "source": [
        "df.head()"
      ]
    },
    {
      "cell_type": "code",
      "execution_count": null,
      "id": "2479f71e",
      "metadata": {
        "id": "2479f71e"
      },
      "outputs": [],
      "source": [
        "df.info()"
      ]
    },
    {
      "cell_type": "code",
      "execution_count": null,
      "id": "605b12ed",
      "metadata": {
        "id": "605b12ed"
      },
      "outputs": [],
      "source": [
        "df.select_dtypes(exclude=['object','int'])"
      ]
    },
    {
      "cell_type": "code",
      "execution_count": null,
      "id": "3bbf53a1",
      "metadata": {
        "id": "3bbf53a1"
      },
      "outputs": [],
      "source": [
        "df.select_dtypes(include='int')"
      ]
    },
    {
      "cell_type": "code",
      "execution_count": null,
      "id": "944e80ca",
      "metadata": {
        "id": "944e80ca"
      },
      "outputs": [],
      "source": [
        "df.select_dtypes(include='float')"
      ]
    },
    {
      "cell_type": "markdown",
      "id": "a6e2928c",
      "metadata": {
        "id": "a6e2928c"
      },
      "source": [
        "## 5.0 Operações Básicas\n",
        "<img src='https://pandas.pydata.org/docs/_images/05_newcolumn_1.svg'>"
      ]
    },
    {
      "cell_type": "code",
      "execution_count": null,
      "id": "bc199592",
      "metadata": {
        "id": "bc199592"
      },
      "outputs": [],
      "source": [
        "df_sales = pd.read_csv('data/sales_clear.csv')"
      ]
    },
    {
      "cell_type": "code",
      "execution_count": null,
      "id": "fe895a92",
      "metadata": {
        "id": "fe895a92"
      },
      "outputs": [],
      "source": [
        "df_sales.head()"
      ]
    },
    {
      "cell_type": "markdown",
      "id": "6c499961",
      "metadata": {
        "id": "6c499961"
      },
      "source": [
        "### 5.1 Operações Matemática"
      ]
    },
    {
      "cell_type": "code",
      "execution_count": null,
      "id": "2cefcfb1",
      "metadata": {
        "id": "2cefcfb1"
      },
      "outputs": [],
      "source": [
        "df_sales['2016'] + df_sales['2017']"
      ]
    },
    {
      "cell_type": "code",
      "execution_count": null,
      "id": "5077f59e",
      "metadata": {
        "id": "5077f59e"
      },
      "outputs": [],
      "source": [
        "df_sales['2016'] - df_sales['2017']"
      ]
    },
    {
      "cell_type": "code",
      "execution_count": null,
      "id": "a5a9d0c5",
      "metadata": {
        "id": "a5a9d0c5"
      },
      "outputs": [],
      "source": [
        "df_sales['2016'] / df_sales['2017']"
      ]
    },
    {
      "cell_type": "code",
      "execution_count": null,
      "id": "eb879120",
      "metadata": {
        "id": "eb879120"
      },
      "outputs": [],
      "source": [
        "df_sales['2016'] * df_sales['2017']"
      ]
    },
    {
      "cell_type": "markdown",
      "id": "90b09fec",
      "metadata": {
        "id": "90b09fec"
      },
      "source": [
        "### 5.2 Criando uma coluna"
      ]
    },
    {
      "cell_type": "code",
      "execution_count": null,
      "id": "bf2d8065",
      "metadata": {
        "id": "bf2d8065"
      },
      "outputs": [],
      "source": [
        "df_sales.head()"
      ]
    },
    {
      "cell_type": "code",
      "execution_count": null,
      "id": "419c879c",
      "metadata": {
        "id": "419c879c"
      },
      "outputs": [],
      "source": [
        "df_sales['soma_2016_2017'] = df_sales['2016'] + df_sales['2017']"
      ]
    },
    {
      "cell_type": "code",
      "execution_count": null,
      "id": "50727af7",
      "metadata": {
        "id": "50727af7"
      },
      "outputs": [],
      "source": [
        "df_sales.head()"
      ]
    },
    {
      "cell_type": "markdown",
      "id": "75fb2a76",
      "metadata": {
        "id": "75fb2a76"
      },
      "source": [
        "### 5.3 Removendo colunas"
      ]
    },
    {
      "cell_type": "code",
      "execution_count": null,
      "id": "87e7b715",
      "metadata": {
        "id": "87e7b715"
      },
      "outputs": [],
      "source": [
        "df_sales.drop('soma_2016_2017', axis=1)"
      ]
    },
    {
      "cell_type": "code",
      "execution_count": null,
      "id": "fe677029",
      "metadata": {
        "id": "fe677029"
      },
      "outputs": [],
      "source": [
        "df_sales.drop('soma_2016_2017', axis=1, inplace=True)"
      ]
    },
    {
      "cell_type": "markdown",
      "id": "17f118b0",
      "metadata": {
        "id": "17f118b0"
      },
      "source": [
        "### 5.4 Removendo linhas"
      ]
    },
    {
      "cell_type": "code",
      "execution_count": null,
      "id": "b297fb1f",
      "metadata": {
        "id": "b297fb1f"
      },
      "outputs": [],
      "source": [
        "df_sales.head()"
      ]
    },
    {
      "cell_type": "code",
      "execution_count": null,
      "id": "e461c538",
      "metadata": {
        "id": "e461c538"
      },
      "outputs": [],
      "source": [
        "#drop rows\n",
        "df_sales.drop([1,2], axis=0)"
      ]
    },
    {
      "cell_type": "markdown",
      "id": "525e7860",
      "metadata": {
        "id": "525e7860"
      },
      "source": [
        "### 5.5 Alterando valores"
      ]
    },
    {
      "cell_type": "code",
      "execution_count": null,
      "id": "798e6311",
      "metadata": {
        "id": "798e6311"
      },
      "outputs": [],
      "source": [
        "df_sales.loc[1:5, 'Jan Units']"
      ]
    },
    {
      "cell_type": "code",
      "execution_count": null,
      "id": "6037172a",
      "metadata": {
        "id": "6037172a"
      },
      "outputs": [],
      "source": [
        "df_sales.loc[1:10, 'Jan Units'] = 0"
      ]
    },
    {
      "cell_type": "markdown",
      "id": "a8a36cbb",
      "metadata": {
        "id": "a8a36cbb"
      },
      "source": [
        "### 5.6 Rename columns"
      ]
    },
    {
      "cell_type": "code",
      "execution_count": null,
      "id": "b855ed04",
      "metadata": {
        "id": "b855ed04"
      },
      "outputs": [],
      "source": [
        "df_sales"
      ]
    },
    {
      "cell_type": "code",
      "execution_count": null,
      "id": "9475c5eb",
      "metadata": {
        "id": "9475c5eb"
      },
      "outputs": [],
      "source": [
        "df_sales.rename(columns={'Start_Date':'date', 'Customer Name':'nome'})"
      ]
    },
    {
      "cell_type": "markdown",
      "id": "8d04a1ed",
      "metadata": {
        "id": "8d04a1ed"
      },
      "source": [
        "### 5.7 Ordenação de Dados"
      ]
    },
    {
      "cell_type": "markdown",
      "id": "874f1f7d",
      "metadata": {
        "id": "874f1f7d"
      },
      "source": [
        "#### 5.7.1 Ordenação composta"
      ]
    },
    {
      "cell_type": "code",
      "execution_count": null,
      "id": "a790d8d6",
      "metadata": {
        "id": "a790d8d6"
      },
      "outputs": [],
      "source": [
        "df_sales.sort_values('Start_Date')"
      ]
    },
    {
      "cell_type": "code",
      "execution_count": null,
      "id": "58042d76",
      "metadata": {
        "id": "58042d76"
      },
      "outputs": [],
      "source": [
        "df_sales.sort_values(by='Start_Date', ascending=False)"
      ]
    },
    {
      "cell_type": "markdown",
      "id": "fa8a9c63",
      "metadata": {
        "id": "fa8a9c63"
      },
      "source": [
        "#### 5.7.2 Ordenação composta"
      ]
    },
    {
      "cell_type": "code",
      "execution_count": null,
      "id": "a61f386c",
      "metadata": {
        "id": "a61f386c"
      },
      "outputs": [],
      "source": [
        "df_sales.sort_values(by=['Customer Name','2017'], ascending=False)"
      ]
    },
    {
      "cell_type": "code",
      "execution_count": null,
      "id": "0aea4933",
      "metadata": {
        "id": "0aea4933"
      },
      "outputs": [],
      "source": []
    }
  ],
  "metadata": {
    "kernelspec": {
      "display_name": "Python 3",
      "language": "python",
      "name": "python3"
    },
    "language_info": {
      "codemirror_mode": {
        "name": "ipython",
        "version": 3
      },
      "file_extension": ".py",
      "mimetype": "text/x-python",
      "name": "python",
      "nbconvert_exporter": "python",
      "pygments_lexer": "ipython3",
      "version": "3.9.15"
    },
    "colab": {
      "provenance": [],
      "toc_visible": true
    }
  },
  "nbformat": 4,
  "nbformat_minor": 5
}